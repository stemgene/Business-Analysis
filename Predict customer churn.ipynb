{
 "cells": [
  {
   "cell_type": "code",
   "execution_count": 1,
   "metadata": {},
   "outputs": [],
   "source": [
    "import numpy as np\n",
    "import pandas as pd\n",
    "import matplotlib.pyplot as plt\n",
    "%matplotlib inline\n",
    "plt.style.use('ggplot')\n",
    "import seaborn as sns\n",
    "sns.set_style('darkgrid')\n",
    "sns.set_palette('muted')"
   ]
  },
  {
   "cell_type": "code",
   "execution_count": 2,
   "metadata": {
    "scrolled": true
   },
   "outputs": [
    {
     "data": {
      "text/html": [
       "<div>\n",
       "<style scoped>\n",
       "    .dataframe tbody tr th:only-of-type {\n",
       "        vertical-align: middle;\n",
       "    }\n",
       "\n",
       "    .dataframe tbody tr th {\n",
       "        vertical-align: top;\n",
       "    }\n",
       "\n",
       "    .dataframe thead th {\n",
       "        text-align: right;\n",
       "    }\n",
       "</style>\n",
       "<table border=\"1\" class=\"dataframe\">\n",
       "  <thead>\n",
       "    <tr style=\"text-align: right;\">\n",
       "      <th></th>\n",
       "      <th>ID</th>\n",
       "      <th>Plan</th>\n",
       "      <th>extra_time</th>\n",
       "      <th>Extra_Data</th>\n",
       "      <th>Change_Plan</th>\n",
       "      <th>Contract</th>\n",
       "      <th>Locked</th>\n",
       "      <th>Key_Account</th>\n",
       "      <th>Lifetime</th>\n",
       "      <th>Lost_User</th>\n",
       "    </tr>\n",
       "  </thead>\n",
       "  <tbody>\n",
       "    <tr>\n",
       "      <th>0</th>\n",
       "      <td>1</td>\n",
       "      <td>1</td>\n",
       "      <td>792.83</td>\n",
       "      <td>-10.45</td>\n",
       "      <td>0</td>\n",
       "      <td>0</td>\n",
       "      <td>0</td>\n",
       "      <td>0</td>\n",
       "      <td>25</td>\n",
       "      <td>0</td>\n",
       "    </tr>\n",
       "    <tr>\n",
       "      <th>1</th>\n",
       "      <td>2</td>\n",
       "      <td>1</td>\n",
       "      <td>121.67</td>\n",
       "      <td>-21.14</td>\n",
       "      <td>0</td>\n",
       "      <td>0</td>\n",
       "      <td>0</td>\n",
       "      <td>0</td>\n",
       "      <td>25</td>\n",
       "      <td>0</td>\n",
       "    </tr>\n",
       "    <tr>\n",
       "      <th>2</th>\n",
       "      <td>3</td>\n",
       "      <td>1</td>\n",
       "      <td>-30.00</td>\n",
       "      <td>-25.66</td>\n",
       "      <td>0</td>\n",
       "      <td>0</td>\n",
       "      <td>0</td>\n",
       "      <td>0</td>\n",
       "      <td>2</td>\n",
       "      <td>1</td>\n",
       "    </tr>\n",
       "    <tr>\n",
       "      <th>3</th>\n",
       "      <td>4</td>\n",
       "      <td>1</td>\n",
       "      <td>241.50</td>\n",
       "      <td>-288.34</td>\n",
       "      <td>0</td>\n",
       "      <td>1</td>\n",
       "      <td>0</td>\n",
       "      <td>1</td>\n",
       "      <td>25</td>\n",
       "      <td>0</td>\n",
       "    </tr>\n",
       "    <tr>\n",
       "      <th>4</th>\n",
       "      <td>5</td>\n",
       "      <td>1</td>\n",
       "      <td>1629.67</td>\n",
       "      <td>-23.66</td>\n",
       "      <td>0</td>\n",
       "      <td>0</td>\n",
       "      <td>0</td>\n",
       "      <td>1</td>\n",
       "      <td>25</td>\n",
       "      <td>0</td>\n",
       "    </tr>\n",
       "  </tbody>\n",
       "</table>\n",
       "</div>"
      ],
      "text/plain": [
       "   ID  Plan  extra_time  Extra_Data  Change_Plan  Contract  Locked  \\\n",
       "0   1     1      792.83      -10.45            0         0       0   \n",
       "1   2     1      121.67      -21.14            0         0       0   \n",
       "2   3     1      -30.00      -25.66            0         0       0   \n",
       "3   4     1      241.50     -288.34            0         1       0   \n",
       "4   5     1     1629.67      -23.66            0         0       0   \n",
       "\n",
       "   Key_Account  Lifetime  Lost_User  \n",
       "0            0        25          0  \n",
       "1            0        25          0  \n",
       "2            0         2          1  \n",
       "3            1        25          0  \n",
       "4            1        25          0  "
      ]
     },
     "execution_count": 2,
     "metadata": {},
     "output_type": "execute_result"
    }
   ],
   "source": [
    "df = pd.read_csv('CustomerSurvival.csv', encoding='utf-8')\n",
    "df.head()"
   ]
  },
  {
   "cell_type": "code",
   "execution_count": 3,
   "metadata": {},
   "outputs": [
    {
     "name": "stdout",
     "output_type": "stream",
     "text": [
      "<class 'pandas.core.frame.DataFrame'>\n",
      "RangeIndex: 4975 entries, 0 to 4974\n",
      "Data columns (total 10 columns):\n",
      "ID             4975 non-null int64\n",
      "Plan           4975 non-null int64\n",
      "extra_time     4975 non-null float64\n",
      "Extra_Data     4975 non-null float64\n",
      "Change_Plan    4975 non-null int64\n",
      "Contract       4975 non-null int64\n",
      "Locked         4975 non-null int64\n",
      "Key_Account    4975 non-null int64\n",
      "Lifetime       4975 non-null int64\n",
      "Lost_User      4975 non-null int64\n",
      "dtypes: float64(2), int64(8)\n",
      "memory usage: 388.8 KB\n"
     ]
    }
   ],
   "source": [
    "df.info()"
   ]
  },
  {
   "cell_type": "code",
   "execution_count": 28,
   "metadata": {},
   "outputs": [],
   "source": [
    "df_num = df[['extra_time', 'Extra_Data']]"
   ]
  },
  {
   "cell_type": "code",
   "execution_count": 29,
   "metadata": {
    "collapsed": true
   },
   "outputs": [
    {
     "data": {
      "text/html": [
       "<div>\n",
       "<style scoped>\n",
       "    .dataframe tbody tr th:only-of-type {\n",
       "        vertical-align: middle;\n",
       "    }\n",
       "\n",
       "    .dataframe tbody tr th {\n",
       "        vertical-align: top;\n",
       "    }\n",
       "\n",
       "    .dataframe thead th {\n",
       "        text-align: right;\n",
       "    }\n",
       "</style>\n",
       "<table border=\"1\" class=\"dataframe\">\n",
       "  <thead>\n",
       "    <tr style=\"text-align: right;\">\n",
       "      <th></th>\n",
       "      <th>ID</th>\n",
       "      <th>Plan</th>\n",
       "      <th>extra_time</th>\n",
       "      <th>Extra_Data</th>\n",
       "      <th>Change_Plan</th>\n",
       "      <th>Contract</th>\n",
       "      <th>Locked</th>\n",
       "      <th>Key_Account</th>\n",
       "      <th>Lifetime</th>\n",
       "      <th>Lost_User</th>\n",
       "    </tr>\n",
       "  </thead>\n",
       "  <tbody>\n",
       "    <tr>\n",
       "      <th>count</th>\n",
       "      <td>4975.000000</td>\n",
       "      <td>4975.000000</td>\n",
       "      <td>4975.000000</td>\n",
       "      <td>4975.000000</td>\n",
       "      <td>4975.000000</td>\n",
       "      <td>4975.000000</td>\n",
       "      <td>4975.000000</td>\n",
       "      <td>4975.000000</td>\n",
       "      <td>4975.000000</td>\n",
       "      <td>4975.000000</td>\n",
       "    </tr>\n",
       "    <tr>\n",
       "      <th>mean</th>\n",
       "      <td>2488.000000</td>\n",
       "      <td>1.057688</td>\n",
       "      <td>258.520034</td>\n",
       "      <td>-71.580422</td>\n",
       "      <td>0.021307</td>\n",
       "      <td>0.245226</td>\n",
       "      <td>0.047437</td>\n",
       "      <td>0.227337</td>\n",
       "      <td>14.774271</td>\n",
       "      <td>0.782714</td>\n",
       "    </tr>\n",
       "    <tr>\n",
       "      <th>std</th>\n",
       "      <td>1436.303125</td>\n",
       "      <td>0.258527</td>\n",
       "      <td>723.057213</td>\n",
       "      <td>275.557448</td>\n",
       "      <td>0.144419</td>\n",
       "      <td>0.430264</td>\n",
       "      <td>0.278143</td>\n",
       "      <td>0.419154</td>\n",
       "      <td>6.534273</td>\n",
       "      <td>0.412441</td>\n",
       "    </tr>\n",
       "    <tr>\n",
       "      <th>min</th>\n",
       "      <td>1.000000</td>\n",
       "      <td>1.000000</td>\n",
       "      <td>-2828.330000</td>\n",
       "      <td>-2189.880000</td>\n",
       "      <td>0.000000</td>\n",
       "      <td>0.000000</td>\n",
       "      <td>0.000000</td>\n",
       "      <td>0.000000</td>\n",
       "      <td>1.000000</td>\n",
       "      <td>0.000000</td>\n",
       "    </tr>\n",
       "    <tr>\n",
       "      <th>25%</th>\n",
       "      <td>1244.500000</td>\n",
       "      <td>1.000000</td>\n",
       "      <td>-126.670000</td>\n",
       "      <td>-74.290000</td>\n",
       "      <td>0.000000</td>\n",
       "      <td>0.000000</td>\n",
       "      <td>0.000000</td>\n",
       "      <td>0.000000</td>\n",
       "      <td>13.000000</td>\n",
       "      <td>1.000000</td>\n",
       "    </tr>\n",
       "    <tr>\n",
       "      <th>50%</th>\n",
       "      <td>2488.000000</td>\n",
       "      <td>1.000000</td>\n",
       "      <td>13.500000</td>\n",
       "      <td>-59.650000</td>\n",
       "      <td>0.000000</td>\n",
       "      <td>0.000000</td>\n",
       "      <td>0.000000</td>\n",
       "      <td>0.000000</td>\n",
       "      <td>13.000000</td>\n",
       "      <td>1.000000</td>\n",
       "    </tr>\n",
       "    <tr>\n",
       "      <th>75%</th>\n",
       "      <td>3731.500000</td>\n",
       "      <td>1.000000</td>\n",
       "      <td>338.660000</td>\n",
       "      <td>-25.795000</td>\n",
       "      <td>0.000000</td>\n",
       "      <td>0.000000</td>\n",
       "      <td>0.000000</td>\n",
       "      <td>0.000000</td>\n",
       "      <td>19.000000</td>\n",
       "      <td>1.000000</td>\n",
       "    </tr>\n",
       "    <tr>\n",
       "      <th>max</th>\n",
       "      <td>4975.000000</td>\n",
       "      <td>3.000000</td>\n",
       "      <td>4314.000000</td>\n",
       "      <td>2568.700000</td>\n",
       "      <td>1.000000</td>\n",
       "      <td>1.000000</td>\n",
       "      <td>2.000000</td>\n",
       "      <td>1.000000</td>\n",
       "      <td>25.000000</td>\n",
       "      <td>1.000000</td>\n",
       "    </tr>\n",
       "  </tbody>\n",
       "</table>\n",
       "</div>"
      ],
      "text/plain": [
       "                ID         Plan   extra_time   Extra_Data  Change_Plan  \\\n",
       "count  4975.000000  4975.000000  4975.000000  4975.000000  4975.000000   \n",
       "mean   2488.000000     1.057688   258.520034   -71.580422     0.021307   \n",
       "std    1436.303125     0.258527   723.057213   275.557448     0.144419   \n",
       "min       1.000000     1.000000 -2828.330000 -2189.880000     0.000000   \n",
       "25%    1244.500000     1.000000  -126.670000   -74.290000     0.000000   \n",
       "50%    2488.000000     1.000000    13.500000   -59.650000     0.000000   \n",
       "75%    3731.500000     1.000000   338.660000   -25.795000     0.000000   \n",
       "max    4975.000000     3.000000  4314.000000  2568.700000     1.000000   \n",
       "\n",
       "          Contract       Locked  Key_Account     Lifetime    Lost_User  \n",
       "count  4975.000000  4975.000000  4975.000000  4975.000000  4975.000000  \n",
       "mean      0.245226     0.047437     0.227337    14.774271     0.782714  \n",
       "std       0.430264     0.278143     0.419154     6.534273     0.412441  \n",
       "min       0.000000     0.000000     0.000000     1.000000     0.000000  \n",
       "25%       0.000000     0.000000     0.000000    13.000000     1.000000  \n",
       "50%       0.000000     0.000000     0.000000    13.000000     1.000000  \n",
       "75%       0.000000     0.000000     0.000000    19.000000     1.000000  \n",
       "max       1.000000     2.000000     1.000000    25.000000     1.000000  "
      ]
     },
     "execution_count": 29,
     "metadata": {},
     "output_type": "execute_result"
    }
   ],
   "source": [
    "df.describe()"
   ]
  },
  {
   "cell_type": "code",
   "execution_count": 30,
   "metadata": {
    "scrolled": false
   },
   "outputs": [
    {
     "data": {
      "text/html": [
       "<div>\n",
       "<style scoped>\n",
       "    .dataframe tbody tr th:only-of-type {\n",
       "        vertical-align: middle;\n",
       "    }\n",
       "\n",
       "    .dataframe tbody tr th {\n",
       "        vertical-align: top;\n",
       "    }\n",
       "\n",
       "    .dataframe thead th {\n",
       "        text-align: right;\n",
       "    }\n",
       "</style>\n",
       "<table border=\"1\" class=\"dataframe\">\n",
       "  <thead>\n",
       "    <tr style=\"text-align: right;\">\n",
       "      <th></th>\n",
       "      <th>extra_time</th>\n",
       "      <th>Extra_Data</th>\n",
       "    </tr>\n",
       "  </thead>\n",
       "  <tbody>\n",
       "    <tr>\n",
       "      <th>count</th>\n",
       "      <td>4975.000000</td>\n",
       "      <td>4975.000000</td>\n",
       "    </tr>\n",
       "    <tr>\n",
       "      <th>mean</th>\n",
       "      <td>258.520034</td>\n",
       "      <td>-71.580422</td>\n",
       "    </tr>\n",
       "    <tr>\n",
       "      <th>std</th>\n",
       "      <td>723.057213</td>\n",
       "      <td>275.557448</td>\n",
       "    </tr>\n",
       "    <tr>\n",
       "      <th>min</th>\n",
       "      <td>-2828.330000</td>\n",
       "      <td>-2189.880000</td>\n",
       "    </tr>\n",
       "    <tr>\n",
       "      <th>25%</th>\n",
       "      <td>-126.670000</td>\n",
       "      <td>-74.290000</td>\n",
       "    </tr>\n",
       "    <tr>\n",
       "      <th>50%</th>\n",
       "      <td>13.500000</td>\n",
       "      <td>-59.650000</td>\n",
       "    </tr>\n",
       "    <tr>\n",
       "      <th>75%</th>\n",
       "      <td>338.660000</td>\n",
       "      <td>-25.795000</td>\n",
       "    </tr>\n",
       "    <tr>\n",
       "      <th>max</th>\n",
       "      <td>4314.000000</td>\n",
       "      <td>2568.700000</td>\n",
       "    </tr>\n",
       "  </tbody>\n",
       "</table>\n",
       "</div>"
      ],
      "text/plain": [
       "        extra_time   Extra_Data\n",
       "count  4975.000000  4975.000000\n",
       "mean    258.520034   -71.580422\n",
       "std     723.057213   275.557448\n",
       "min   -2828.330000 -2189.880000\n",
       "25%    -126.670000   -74.290000\n",
       "50%      13.500000   -59.650000\n",
       "75%     338.660000   -25.795000\n",
       "max    4314.000000  2568.700000"
      ]
     },
     "execution_count": 30,
     "metadata": {},
     "output_type": "execute_result"
    }
   ],
   "source": [
    "df_num.describe()"
   ]
  },
  {
   "cell_type": "code",
   "execution_count": 10,
   "metadata": {
    "scrolled": true
   },
   "outputs": [
    {
     "data": {
      "text/plain": [
       "<matplotlib.axes._subplots.AxesSubplot at 0x113103438>"
      ]
     },
     "execution_count": 10,
     "metadata": {},
     "output_type": "execute_result"
    },
    {
     "data": {
      "image/png": "[encoded data removed]",
      "text/plain": [
       "<Figure size 432x288 with 1 Axes>"
      ]
     },
     "metadata": {
      "needs_background": "light"
     },
     "output_type": "display_data"
    }
   ],
   "source": [
    "sns.boxplot(x=df_num['Extra_Data'])"
   ]
  },
  {
   "cell_type": "code",
   "execution_count": 11,
   "metadata": {
    "collapsed": true
   },
   "outputs": [
    {
     "name": "stdout",
     "output_type": "stream",
     "text": [
      "[[0.73903374 0.22186505 1.56509476]\n",
      " [0.18928487 0.18306706 1.56509476]\n",
      " [0.39906805 0.1666623  1.95516093]\n",
      " ...\n",
      " [0.13235419 0.51882028 1.56509476]\n",
      " [0.13783139 0.35531706 0.95287638]\n",
      " [1.26446692 0.09022466 1.56509476]]\n"
     ]
    }
   ],
   "source": [
    "from scipy import stats\n",
    "import numpy as np\n",
    "\n",
    "z = np.abs(stats.zscore(df_num))\n",
    "print(z)"
   ]
  },
  {
   "cell_type": "code",
   "execution_count": 24,
   "metadata": {
    "collapsed": true
   },
   "outputs": [
    {
     "name": "stdout",
     "output_type": "stream",
     "text": [
      "(array([  22,   31,   39,   41,   58,   67,   99,  139,  150,  155,  161,\n",
      "        176,  182,  209,  221,  259,  279,  283,  287,  299,  346,  361,\n",
      "        368,  376,  399,  471,  487,  496,  499,  572,  579,  588,  609,\n",
      "        610,  610,  643,  701,  709,  715,  737,  743,  748,  780,  792,\n",
      "        793,  796,  804,  818,  836,  847,  933,  954,  957,  980,  980,\n",
      "        983,  992,  999, 1017, 1034, 1087, 1153, 1174, 1182, 1201, 1229,\n",
      "       1230, 1238, 1240, 1251, 1267, 1273, 1277, 1297, 1305, 1326, 1361,\n",
      "       1383, 1384, 1390, 1402, 1422, 1434, 1436, 1469, 1489, 1494, 1598,\n",
      "       1620, 1637, 1710, 1715, 1743, 1749, 1762, 1765, 1813, 1825, 1841,\n",
      "       1852, 1859, 1870, 1926, 1934, 1955, 1971, 2007, 2025, 2038, 2117,\n",
      "       2169, 2172, 2204, 2213, 2217, 2223, 2225, 2236, 2255, 2269, 2284,\n",
      "       2293, 2295, 2329, 2336, 2357, 2359, 2378, 2381, 2389, 2407, 2412,\n",
      "       2423, 2435, 2437, 2439, 2447, 2498, 2511, 2591, 2599, 2601, 2617,\n",
      "       2654, 2656, 2658, 2677, 2678, 2745, 2749, 2770, 2789, 2822, 2825,\n",
      "       2855, 2857, 2870, 2870, 2879, 2909, 2909, 2911, 2912, 2925, 2953,\n",
      "       2957, 2962, 2965, 2978, 3023, 3027, 3038, 3061, 3085, 3103, 3118,\n",
      "       3130, 3131, 3149, 3159, 3204, 3205, 3261, 3292, 3297, 3300, 3373,\n",
      "       3418, 3439, 3448, 3480, 3492, 3515, 3540, 3541, 3570, 3571, 3572,\n",
      "       3580, 3581, 3586, 3588, 3589, 3590, 3600, 3635, 3641, 3645, 3664,\n",
      "       3671, 3699, 3719, 3734, 3774, 3785, 3810, 3815, 3819, 3820, 3821,\n",
      "       3845, 3861, 3864, 3867, 3891, 3899, 3900, 3903, 3963, 3977, 4007,\n",
      "       4010, 4042, 4052, 4062, 4084, 4087, 4095, 4097, 4100, 4101, 4178,\n",
      "       4192, 4263, 4266, 4280, 4311, 4318, 4326, 4346, 4376, 4431, 4458,\n",
      "       4464, 4471, 4481, 4500, 4511, 4513, 4542, 4548, 4567, 4568, 4579,\n",
      "       4588, 4591, 4592, 4607, 4643, 4652, 4699, 4715, 4744, 4753, 4768,\n",
      "       4770, 4774, 4782, 4787, 4813, 4830, 4847, 4882, 4883, 4892, 4904]), array([0, 0, 0, 0, 1, 0, 0, 1, 0, 1, 0, 0, 0, 1, 1, 1, 1, 0, 0, 0, 0, 0,\n",
      "       1, 1, 1, 0, 0, 0, 0, 1, 0, 0, 1, 0, 1, 1, 0, 1, 0, 1, 1, 0, 1, 1,\n",
      "       0, 1, 1, 1, 0, 0, 0, 0, 0, 0, 1, 1, 1, 1, 0, 0, 1, 1, 1, 0, 0, 1,\n",
      "       1, 0, 1, 0, 0, 1, 0, 1, 0, 1, 1, 1, 1, 1, 0, 0, 1, 0, 1, 1, 0, 0,\n",
      "       1, 0, 0, 0, 1, 1, 1, 0, 1, 1, 1, 0, 1, 0, 0, 0, 0, 1, 0, 0, 0, 0,\n",
      "       0, 0, 1, 1, 0, 1, 0, 0, 1, 0, 0, 1, 0, 0, 0, 1, 0, 1, 1, 1, 1, 1,\n",
      "       1, 1, 1, 0, 1, 1, 0, 0, 0, 1, 1, 0, 0, 1, 1, 0, 0, 0, 0, 0, 1, 1,\n",
      "       1, 0, 0, 1, 0, 0, 1, 1, 0, 0, 0, 0, 1, 1, 1, 0, 1, 1, 0, 1, 0, 1,\n",
      "       0, 0, 1, 1, 1, 0, 1, 1, 1, 0, 1, 1, 1, 0, 0, 1, 1, 0, 0, 0, 0, 0,\n",
      "       1, 0, 1, 1, 1, 1, 1, 0, 1, 1, 1, 1, 0, 0, 0, 0, 1, 1, 0, 1, 1, 1,\n",
      "       1, 0, 0, 1, 1, 0, 1, 0, 0, 0, 0, 0, 1, 0, 1, 1, 1, 0, 1, 0, 1, 0,\n",
      "       0, 0, 1, 1, 1, 1, 0, 0, 1, 0, 1, 0, 0, 0, 0, 1, 0, 1, 1, 1, 1, 1,\n",
      "       1, 0, 1, 0, 1, 0, 0, 1, 0, 0, 0, 1, 0, 0, 1, 1, 0, 1, 0, 0, 0, 0]))\n"
     ]
    }
   ],
   "source": [
    "threshold = 3\n",
    "print(np.where(z>threshold))"
   ]
  },
  {
   "cell_type": "code",
   "execution_count": 21,
   "metadata": {},
   "outputs": [
    {
     "name": "stdout",
     "output_type": "stream",
     "text": [
      "extra_time    465.330\n",
      "Extra_Data     48.495\n",
      "Lifetime        6.000\n",
      "dtype: float64\n"
     ]
    }
   ],
   "source": [
    "q1 = df_num.quantile(0.25)\n",
    "q3 = df_num.quantile(0.75)\n",
    "IQR = q3-q1\n",
    "print(IQR)"
   ]
  },
  {
   "cell_type": "code",
   "execution_count": 37,
   "metadata": {},
   "outputs": [
    {
     "name": "stdout",
     "output_type": "stream",
     "text": [
      "465.33 1036.655 -824.665\n"
     ]
    }
   ],
   "source": [
    "time_q1 = df_num.extra_time.quantile(0.25)\n",
    "time_q3 = df_num.extra_time.quantile(0.75)\n",
    "time_IQR = time_q3 - time_q1\n",
    "time_box_u = time_q3 + 1.5 * time_IQR\n",
    "time_box_l = time_q1 - 1.5 * time_IQR\n",
    "print(time_IQR, time_box_u, time_box_l)"
   ]
  },
  {
   "cell_type": "code",
   "execution_count": 40,
   "metadata": {},
   "outputs": [
    {
     "name": "stdout",
     "output_type": "stream",
     "text": [
      "-74.28999999999999 -25.795 48.49499999999999 46.94749999999998 -147.03249999999997\n"
     ]
    }
   ],
   "source": [
    "data_q1 = df_num.Extra_Data.quantile(0.25)\n",
    "data_q3 = df_num.Extra_Data.quantile(0.75)\n",
    "data_IQR = data_q3 - data_q1\n",
    "data_box_u = data_q3 + 1.5 * data_IQR\n",
    "data_box_l = data_q1 - 1.5 * data_IQR\n",
    "print(data_q1, data_q3, data_IQR, data_box_u, data_box_l)"
   ]
  },
  {
   "cell_type": "code",
   "execution_count": 50,
   "metadata": {
    "collapsed": true
   },
   "outputs": [
    {
     "name": "stdout",
     "output_type": "stream",
     "text": [
      "      extra_time  Extra_Data\n",
      "0         792.83      -10.45\n",
      "1         121.67      -21.14\n",
      "2         -30.00      -25.66\n",
      "5         182.00     -115.86\n",
      "9         289.00     -131.78\n",
      "11         90.00      -27.69\n",
      "13        157.83       45.26\n",
      "17        644.17      -73.36\n",
      "18        -95.00        9.48\n",
      "21        597.50        9.90\n",
      "23         36.50      -81.63\n",
      "24        -77.17      -60.14\n",
      "26       -113.50      -59.96\n",
      "27         19.00     -101.87\n",
      "28        260.33       43.01\n",
      "30        -95.33      -60.00\n",
      "32        545.33      -43.32\n",
      "34        581.00       24.36\n",
      "35         74.33      -96.34\n",
      "40        101.17      -14.58\n",
      "43       -154.50      -55.08\n",
      "45       -179.33      -59.89\n",
      "47        124.67     -101.62\n",
      "48       -101.33      -59.82\n",
      "49       -167.83      -55.08\n",
      "50         96.17      -56.35\n",
      "51        249.83        5.31\n",
      "52        441.17      -24.31\n",
      "54        -50.00      -59.92\n",
      "55         77.47      -48.80\n",
      "...          ...         ...\n",
      "4935     -183.00      -35.10\n",
      "4937     -124.00      -59.72\n",
      "4939     -225.00      -59.80\n",
      "4940     -197.83      -59.91\n",
      "4942     -101.33      -59.82\n",
      "4943     -172.32      -42.26\n",
      "4944      318.17      -59.96\n",
      "4945     -142.50      -59.56\n",
      "4946      700.00      -55.64\n",
      "4947     -190.17      -59.95\n",
      "4949      119.20      -51.39\n",
      "4951     -186.17      -58.64\n",
      "4952      191.17      -14.49\n",
      "4954      166.00      -23.11\n",
      "4955      592.50      -10.98\n",
      "4956      -78.83      -23.56\n",
      "4958     -324.83      -59.98\n",
      "4959      440.33      -60.00\n",
      "4960      -49.00      -59.65\n",
      "4961      338.82      -49.30\n",
      "4962      326.00      -60.00\n",
      "4964      730.83      -74.25\n",
      "4965       53.20      -46.68\n",
      "4966      321.67      -79.53\n",
      "4967     -196.50      -59.91\n",
      "4968      190.00     -143.06\n",
      "4969     -168.33      -58.01\n",
      "4971      197.83      -34.99\n",
      "4973      358.17       26.32\n",
      "4974     -655.67      -96.44\n",
      "\n",
      "[3180 rows x 2 columns]\n"
     ]
    }
   ],
   "source": [
    "df_num_std = df_num.loc[( \n",
    "                          ((df_num.extra_time > time_box_l) & (df_num.extra_time < time_box_u)) \n",
    "                         & ((df_num.Extra_Data > data_box_l) & (df_num.Extra_Data < data_box_u))\n",
    ")                        \n",
    "                        ,['extra_time', \"Extra_Data\"]]\n",
    "print(df_num_std)"
   ]
  },
  {
   "cell_type": "code",
   "execution_count": 56,
   "metadata": {
    "scrolled": true
   },
   "outputs": [
    {
     "name": "stdout",
     "output_type": "stream",
     "text": [
      "        extra_time\n",
      "count  4479.000000\n",
      "mean     65.548462\n",
      "std     305.505281\n",
      "min    -793.670000\n",
      "25%    -140.000000\n",
      "50%     -15.330000\n",
      "75%     197.165000\n",
      "max    1035.030000         extra_time   Extra_Data\n",
      "count  4975.000000  4975.000000\n",
      "mean    258.520034   -71.580422\n",
      "std     723.057213   275.557448\n",
      "min   -2828.330000 -2189.880000\n",
      "25%    -126.670000   -74.290000\n",
      "50%      13.500000   -59.650000\n",
      "75%     338.660000   -25.795000\n",
      "max    4314.000000  2568.700000\n"
     ]
    }
   ],
   "source": [
    "df_std_time = df_num.loc[((df_num.extra_time > time_box_l) & (df_num.extra_time < time_box_u)) , ['extra_time']]\n",
    "print(df_std_time.describe(),\n",
    "df_num.describe())"
   ]
  },
  {
   "cell_type": "code",
   "execution_count": 58,
   "metadata": {
    "scrolled": true
   },
   "outputs": [
    {
     "data": {
      "text/plain": [
       "array([[<matplotlib.axes._subplots.AxesSubplot object at 0x1159a8f98>]],\n",
       "      dtype=object)"
      ]
     },
     "execution_count": 58,
     "metadata": {},
     "output_type": "execute_result"
    },
    {
     "data": {
      "text/plain": [
       "<Figure size 720x360 with 0 Axes>"
      ]
     },
     "metadata": {},
     "output_type": "display_data"
    },
    {
     "data": {
      "image/png": "[encoded data removed]",
      "text/plain": [
       "<Figure size 432x288 with 1 Axes>"
      ]
     },
     "metadata": {
      "needs_background": "light"
     },
     "output_type": "display_data"
    }
   ],
   "source": [
    "plt.figure(figsize = (10,5))\n",
    "df_std_time.hist(bins=30)"
   ]
  },
  {
   "cell_type": "code",
   "execution_count": 61,
   "metadata": {
    "scrolled": true
   },
   "outputs": [
    {
     "name": "stdout",
     "output_type": "stream",
     "text": [
      "        Extra_Data\n",
      "count  3473.000000\n",
      "mean    -49.521293\n",
      "std      31.859325\n",
      "min    -146.760000\n",
      "25%     -59.990000\n",
      "50%     -59.360000\n",
      "75%     -37.480000\n",
      "max      46.890000         extra_time   Extra_Data\n",
      "count  4975.000000  4975.000000\n",
      "mean    258.520034   -71.580422\n",
      "std     723.057213   275.557448\n",
      "min   -2828.330000 -2189.880000\n",
      "25%    -126.670000   -74.290000\n",
      "50%      13.500000   -59.650000\n",
      "75%     338.660000   -25.795000\n",
      "max    4314.000000  2568.700000\n"
     ]
    }
   ],
   "source": [
    "df_std_data = df_num.loc[((df_num.Extra_Data > data_box_l) & (df_num.Extra_Data < data_box_u)) , ['Extra_Data']]\n",
    "print(df_std_data.describe(),df_num.describe())"
   ]
  },
  {
   "cell_type": "code",
   "execution_count": 65,
   "metadata": {},
   "outputs": [
    {
     "data": {
      "text/plain": [
       "array([[<matplotlib.axes._subplots.AxesSubplot object at 0x1160b1dd8>]],\n",
       "      dtype=object)"
      ]
     },
     "execution_count": 65,
     "metadata": {},
     "output_type": "execute_result"
    },
    {
     "data": {
      "text/plain": [
       "<Figure size 720x360 with 0 Axes>"
      ]
     },
     "metadata": {},
     "output_type": "display_data"
    },
    {
     "data": {
      "image/png": "[encoded data removed]",
      "text/plain": [
       "<Figure size 432x288 with 1 Axes>"
      ]
     },
     "metadata": {
      "needs_background": "light"
     },
     "output_type": "display_data"
    }
   ],
   "source": [
    "plt.figure(figsize = (10,5))\n",
    "df_std_data.hist(bins=30)"
   ]
  },
  {
   "cell_type": "markdown",
   "metadata": {},
   "source": [
    "### Distribution of Variables"
   ]
  },
  {
   "cell_type": "code",
   "execution_count": 63,
   "metadata": {
    "scrolled": true
   },
   "outputs": [
    {
     "data": {
      "text/plain": [
       "<matplotlib.axes._subplots.AxesSubplot at 0x115e95ef0>"
      ]
     },
     "execution_count": 63,
     "metadata": {},
     "output_type": "execute_result"
    },
    {
     "data": {
      "image/png": "[encoded data removed]",
      "text/plain": [
       "<Figure size 720x360 with 2 Axes>"
      ]
     },
     "metadata": {
      "needs_background": "light"
     },
     "output_type": "display_data"
    }
   ],
   "source": [
    "plt.figure(figsize = (10,5))\n",
    "plt.subplot(121)\n",
    "df.extra_time.hist(bins=30)\n",
    "plt.subplot(122)\n",
    "df.Extra_Data.hist(bins=30)"
   ]
  },
  {
   "cell_type": "code",
   "execution_count": 68,
   "metadata": {},
   "outputs": [
    {
     "data": {
      "text/plain": [
       "array([[<matplotlib.axes._subplots.AxesSubplot object at 0x1168534e0>]],\n",
       "      dtype=object)"
      ]
     },
     "execution_count": 68,
     "metadata": {},
     "output_type": "execute_result"
    },
    {
     "data": {
      "image/png": "[encoded data removed]",
      "text/plain": [
       "<Figure size 432x288 with 1 Axes>"
      ]
     },
     "metadata": {
      "needs_background": "light"
     },
     "output_type": "display_data"
    },
    {
     "data": {
      "image/png": "[encoded data removed]",
      "text/plain": [
       "<Figure size 432x288 with 1 Axes>"
      ]
     },
     "metadata": {
      "needs_background": "light"
     },
     "output_type": "display_data"
    },
    {
     "data": {
      "image/png": "[encoded data removed]",
      "text/plain": [
       "<Figure size 432x288 with 1 Axes>"
      ]
     },
     "metadata": {
      "needs_background": "light"
     },
     "output_type": "display_data"
    }
   ],
   "source": [
    "plt.figure()\n",
    "plt.subplot(1,2,1)\n",
    "df_std_time.hist(bins=30)\n",
    "plt.subplot(1,2,2)\n",
    "df_std_data.hist(bins=30)"
   ]
  },
  {
   "cell_type": "markdown",
   "metadata": {},
   "source": [
    "extra_time is 右偏，extra_data is normal distribution"
   ]
  },
  {
   "cell_type": "code",
   "execution_count": 33,
   "metadata": {
    "scrolled": false
   },
   "outputs": [
    {
     "data": {
      "text/plain": [
       "<matplotlib.axes._subplots.AxesSubplot at 0x115967940>"
      ]
     },
     "execution_count": 33,
     "metadata": {},
     "output_type": "execute_result"
    },
    {
     "data": {
      "image/png": "[encoded data removed]",
      "text/plain": [
       "<Figure size 720x432 with 6 Axes>"
      ]
     },
     "metadata": {},
     "output_type": "display_data"
    }
   ],
   "source": [
    "fig, axes = plt.subplots(nrows=2, ncols=3, figsize=(10,6))\n",
    "sns.countplot(x='Plan', data=df, ax=axes[0,0])\n",
    "sns.countplot(x='Change_Plan', data=df, ax=axes[0,1])\n",
    "sns.countplot(x='Contract', data=df, ax=axes[0,2])\n",
    "sns.countplot(x='Locked', data=df, ax=axes[1,0])\n",
    "sns.countplot(x='Key_Account', data=df, ax=axes[1,1])\n",
    "sns.countplot(x='Lost_User', data=df, ax=axes[1,2])"
   ]
  },
  {
   "cell_type": "markdown",
   "metadata": {},
   "source": [
    "Plan,Change_Plan,Locked的类型分布不均衡，例如Locked，办理过套餐外业务的用户数量极少，导致样本缺乏足够的代表性，可能会对模型的结果产生一定影响"
   ]
  },
  {
   "cell_type": "markdown",
   "metadata": {},
   "source": [
    "### 自变量与因变量之间的关系"
   ]
  },
  {
   "cell_type": "code",
   "execution_count": 67,
   "metadata": {
    "scrolled": true
   },
   "outputs": [
    {
     "data": {
      "text/plain": [
       "<matplotlib.axes._subplots.AxesSubplot at 0x118acd9e8>"
      ]
     },
     "execution_count": 67,
     "metadata": {},
     "output_type": "execute_result"
    },
    {
     "data": {
      "text/plain": [
       "<Figure size 720x432 with 0 Axes>"
      ]
     },
     "metadata": {},
     "output_type": "display_data"
    },
    {
     "data": {
      "image/png": "[encoded data removed]",
      "text/plain": [
       "<Figure size 432x288 with 1 Axes>"
      ]
     },
     "metadata": {},
     "output_type": "display_data"
    },
    {
     "data": {
      "image/png": "[encoded data removed]",
      "text/plain": [
       "<Figure size 432x288 with 1 Axes>"
      ]
     },
     "metadata": {},
     "output_type": "display_data"
    }
   ],
   "source": [
    "plt.figure(figsize=(10,6))\n",
    "df.plot.scatter(x='extra_time', y='Lost_User')\n",
    "df.plot.scatter(x='Extra_Data', y='Lost_User')"
   ]
  },
  {
   "cell_type": "code",
   "execution_count": 64,
   "metadata": {},
   "outputs": [],
   "source": [
    "bin1 = [-3000, -2000, -500, 0, 500, 2000, 3000, 5000]\n",
    "df['time_label'] = pd.cut(df.extra_time, bins=bin1)\n",
    "bin2 = [-3000, -2000, -500, 0, 500, 2000, 3000]\n",
    "df['data_label'] = pd.cut(df.Extra_Data, bins=bin2)\n",
    "\n",
    "# To inspect distribution\n",
    "time_amount = df.groupby('time_label').ID.count().sort_values().reset_index()\n",
    "time_amount['amount_cumsum'] = time_amount.ID.cumsum()\n",
    "time_amount['prop'] = time_amount.apply(lambda x:x.amount_cumsum/4975, axis=1)\n",
    "data_amount = df.groupby('data_label').ID.count().sort_values().reset_index()\n",
    "data_amount['amount_cumsum'] = time_amount.ID.cumsum()\n",
    "data_amount['prop'] = time_amount.apply(lambda x:x.amount_cumsum/4975, axis=1)"
   ]
  },
  {
   "cell_type": "code",
   "execution_count": 66,
   "metadata": {
    "scrolled": true
   },
   "outputs": [
    {
     "data": {
      "text/plain": [
       "<matplotlib.axes._subplots.AxesSubplot at 0x1183a0fd0>"
      ]
     },
     "execution_count": 66,
     "metadata": {},
     "output_type": "execute_result"
    },
    {
     "data": {
      "image/png": "[encoded data removed]",
      "text/plain": [
       "<Figure size 432x288 with 1 Axes>"
      ]
     },
     "metadata": {},
     "output_type": "display_data"
    }
   ],
   "source": [
    "sns.countplot(x='time_label', hue='Lost_User', data=df)\n",
    "sns.countplot(x='data_label', hue='Lost_User', data=df)"
   ]
  },
  {
   "cell_type": "code",
   "execution_count": 37,
   "metadata": {},
   "outputs": [
    {
     "data": {
      "text/plain": [
       "<matplotlib.axes._subplots.AxesSubplot at 0x11411a0b8>"
      ]
     },
     "execution_count": 37,
     "metadata": {},
     "output_type": "execute_result"
    },
    {
     "data": {
      "image/png": "[encoded data removed]",
      "text/plain": [
       "<Figure size 720x504 with 2 Axes>"
      ]
     },
     "metadata": {},
     "output_type": "display_data"
    }
   ],
   "source": [
    "internal_chars = ['extra_time', 'Extra_Data', 'Plan', 'Change_Plan', 'Contract', 'Locked', 'Key_Account', 'Lifetime', 'Lost_User']\n",
    "corrmat = df[internal_chars].corr()\n",
    "f, ax = plt.subplots(figsize=(10,7))\n",
    "plt.xticks(rotation='0')\n",
    "sns.heatmap(corrmat, square=False, linewidths=.5, annot=True)"
   ]
  },
  {
   "cell_type": "code",
   "execution_count": 69,
   "metadata": {},
   "outputs": [
    {
     "data": {
      "text/html": [
       "<div>\n",
       "<style scoped>\n",
       "    .dataframe tbody tr th:only-of-type {\n",
       "        vertical-align: middle;\n",
       "    }\n",
       "\n",
       "    .dataframe tbody tr th {\n",
       "        vertical-align: top;\n",
       "    }\n",
       "\n",
       "    .dataframe thead th {\n",
       "        text-align: right;\n",
       "    }\n",
       "</style>\n",
       "<table border=\"1\" class=\"dataframe\">\n",
       "  <thead>\n",
       "    <tr style=\"text-align: right;\">\n",
       "      <th></th>\n",
       "      <th>ID</th>\n",
       "      <th>Plan</th>\n",
       "      <th>extra_time</th>\n",
       "      <th>Extra_Data</th>\n",
       "      <th>Change_Plan</th>\n",
       "      <th>Contract</th>\n",
       "      <th>Locked</th>\n",
       "      <th>Key_Account</th>\n",
       "      <th>Lifetime</th>\n",
       "      <th>Lost_User</th>\n",
       "      <th>time_tranf</th>\n",
       "      <th>data_tranf</th>\n",
       "    </tr>\n",
       "  </thead>\n",
       "  <tbody>\n",
       "    <tr>\n",
       "      <th>0</th>\n",
       "      <td>1</td>\n",
       "      <td>1</td>\n",
       "      <td>792.83</td>\n",
       "      <td>-10.45</td>\n",
       "      <td>0</td>\n",
       "      <td>0</td>\n",
       "      <td>0</td>\n",
       "      <td>0</td>\n",
       "      <td>25</td>\n",
       "      <td>0</td>\n",
       "      <td>1</td>\n",
       "      <td>1</td>\n",
       "    </tr>\n",
       "    <tr>\n",
       "      <th>1</th>\n",
       "      <td>2</td>\n",
       "      <td>1</td>\n",
       "      <td>121.67</td>\n",
       "      <td>-21.14</td>\n",
       "      <td>0</td>\n",
       "      <td>0</td>\n",
       "      <td>0</td>\n",
       "      <td>0</td>\n",
       "      <td>25</td>\n",
       "      <td>0</td>\n",
       "      <td>1</td>\n",
       "      <td>1</td>\n",
       "    </tr>\n",
       "    <tr>\n",
       "      <th>2</th>\n",
       "      <td>3</td>\n",
       "      <td>1</td>\n",
       "      <td>-30.00</td>\n",
       "      <td>-25.66</td>\n",
       "      <td>0</td>\n",
       "      <td>0</td>\n",
       "      <td>0</td>\n",
       "      <td>0</td>\n",
       "      <td>2</td>\n",
       "      <td>1</td>\n",
       "      <td>0</td>\n",
       "      <td>0</td>\n",
       "    </tr>\n",
       "    <tr>\n",
       "      <th>3</th>\n",
       "      <td>4</td>\n",
       "      <td>1</td>\n",
       "      <td>241.50</td>\n",
       "      <td>-288.34</td>\n",
       "      <td>0</td>\n",
       "      <td>1</td>\n",
       "      <td>0</td>\n",
       "      <td>1</td>\n",
       "      <td>25</td>\n",
       "      <td>0</td>\n",
       "      <td>1</td>\n",
       "      <td>1</td>\n",
       "    </tr>\n",
       "    <tr>\n",
       "      <th>4</th>\n",
       "      <td>5</td>\n",
       "      <td>1</td>\n",
       "      <td>1629.67</td>\n",
       "      <td>-23.66</td>\n",
       "      <td>0</td>\n",
       "      <td>0</td>\n",
       "      <td>0</td>\n",
       "      <td>1</td>\n",
       "      <td>25</td>\n",
       "      <td>0</td>\n",
       "      <td>1</td>\n",
       "      <td>1</td>\n",
       "    </tr>\n",
       "  </tbody>\n",
       "</table>\n",
       "</div>"
      ],
      "text/plain": [
       "   ID  Plan  extra_time  Extra_Data  Change_Plan  Contract  Locked  \\\n",
       "0   1     1      792.83      -10.45            0         0       0   \n",
       "1   2     1      121.67      -21.14            0         0       0   \n",
       "2   3     1      -30.00      -25.66            0         0       0   \n",
       "3   4     1      241.50     -288.34            0         1       0   \n",
       "4   5     1     1629.67      -23.66            0         0       0   \n",
       "\n",
       "   Key_Account  Lifetime  Lost_User  time_tranf  data_tranf  \n",
       "0            0        25          0           1           1  \n",
       "1            0        25          0           1           1  \n",
       "2            0         2          1           0           0  \n",
       "3            1        25          0           1           1  \n",
       "4            1        25          0           1           1  "
      ]
     },
     "execution_count": 69,
     "metadata": {},
     "output_type": "execute_result"
    }
   ],
   "source": [
    "df['time_tranf'] = df.apply(lambda x:1 if x.extra_time>0 else 0, axis=1)\n",
    "df['data_tranf'] = df.apply(lambda x:1 if x.extra_time>0 else 0, axis=1)\n",
    "df.head()"
   ]
  },
  {
   "cell_type": "code",
   "execution_count": 70,
   "metadata": {
    "scrolled": true
   },
   "outputs": [
    {
     "data": {
      "text/plain": [
       "array([[1, 1, 1, ..., 0, 0, 0],\n",
       "       [1, 1, 1, ..., 0, 0, 0],\n",
       "       [1, 0, 0, ..., 0, 0, 0],\n",
       "       ...,\n",
       "       [1, 1, 1, ..., 1, 0, 0],\n",
       "       [1, 1, 1, ..., 1, 0, 0],\n",
       "       [3, 0, 0, ..., 1, 0, 1]])"
      ]
     },
     "execution_count": 70,
     "metadata": {},
     "output_type": "execute_result"
    }
   ],
   "source": [
    "x = df.loc[:, ['Plan', 'time_tranf', 'data_tranf',  'Change_Plan', 'Contract', 'Locked', 'Key_Account']]\n",
    "x = np.array(x)\n",
    "x"
   ]
  },
  {
   "cell_type": "code",
   "execution_count": 71,
   "metadata": {},
   "outputs": [
    {
     "data": {
      "text/plain": [
       "array([[0],\n",
       "       [0],\n",
       "       [1],\n",
       "       ...,\n",
       "       [0],\n",
       "       [1],\n",
       "       [0]])"
      ]
     },
     "execution_count": 71,
     "metadata": {},
     "output_type": "execute_result"
    }
   ],
   "source": [
    "y = df.Lost_User\n",
    "y = y[:, np.newaxis]\n",
    "y"
   ]
  },
  {
   "cell_type": "code",
   "execution_count": 72,
   "metadata": {},
   "outputs": [],
   "source": [
    "from sklearn.model_selection import train_test_split\n",
    "\n",
    "x_train, x_test, y_train, y_test = train_test_split(x, y, test_size=0.3)"
   ]
  },
  {
   "cell_type": "code",
   "execution_count": 81,
   "metadata": {},
   "outputs": [],
   "source": [
    "from sklearn import tree\n",
    "clf = tree.DecisionTreeClassifier(criterion='gini', splitter='best',\n",
    "                                 max_depth=3, min_samples_split=10,\n",
    "                                 min_samples_leaf=5)\n",
    "clf = clf.fit(x_train, y_train)"
   ]
  },
  {
   "cell_type": "code",
   "execution_count": 82,
   "metadata": {},
   "outputs": [
    {
     "data": {
      "text/plain": [
       "'train_score:0.8644457208500862,test_score:0.8519758874748827'"
      ]
     },
     "execution_count": 82,
     "metadata": {},
     "output_type": "execute_result"
    }
   ],
   "source": [
    "train_score = clf.score(x_train, y_train)\n",
    "test_score = clf.score(x_test, y_test)\n",
    "'train_score:{0},test_score:{1}'.format(train_score, test_score)"
   ]
  },
  {
   "cell_type": "code",
   "execution_count": 100,
   "metadata": {},
   "outputs": [
    {
     "name": "stdout",
     "output_type": "stream",
     "text": [
      "best_param:3, test_score:0.8519758874748827\n"
     ]
    }
   ],
   "source": [
    "def cv_score(d):\n",
    "    clf_opt = tree.DecisionTreeClassifier(max_depth=d).fit(x_train, y_train)\n",
    "    \n",
    "    tr_opt_score = clf_opt.score(x_train, y_train)\n",
    "    cv_score = clf_opt.score(x_test, y_test)\n",
    "    \n",
    "    return (tr_opt_score, cv_score)\n",
    "\n",
    "depths = range(2, 10)\n",
    "scores = [cv_score(d) for d in depths]\n",
    "train_opt_scores = [s[0] for s in scores]\n",
    "cv_scores = [s[1] for s in scores]\n",
    "\n",
    "score_index = np.argmax(cv_scores)\n",
    "test_score = cv_scores[score_index]\n",
    "best_para = depths[score_index]\n",
    "print('best_param:{0}, test_score:{1}'.format(best_para, test_score))"
   ]
  },
  {
   "cell_type": "code",
   "execution_count": 101,
   "metadata": {},
   "outputs": [
    {
     "data": {
      "text/plain": [
       "<matplotlib.legend.Legend at 0x1174b2160>"
      ]
     },
     "execution_count": 101,
     "metadata": {},
     "output_type": "execute_result"
    },
    {
     "data": {
      "image/png": "[encoded data removed]",
      "text/plain": [
       "<Figure size 432x288 with 1 Axes>"
      ]
     },
     "metadata": {
      "needs_background": "light"
     },
     "output_type": "display_data"
    }
   ],
   "source": [
    "plt.figure()\n",
    "plt.grid(True)\n",
    "plt.xlabel('max_depth')\n",
    "plt.ylabel('test_score')\n",
    "plt.plot(depths, cv_scores, '.g-', label='Test AUC')\n",
    "plt.plot(depths, train_opt_scores, '.r--', label='Train AUC')\n",
    "plt.legend()"
   ]
  },
  {
   "cell_type": "code",
   "execution_count": 103,
   "metadata": {},
   "outputs": [
    {
     "data": {
      "text/plain": [
       "array([0, 1, 1, ..., 1, 0, 1])"
      ]
     },
     "execution_count": 103,
     "metadata": {},
     "output_type": "execute_result"
    }
   ],
   "source": [
    "y_pred = clf.predict(x_test)\n",
    "y_pred"
   ]
  },
  {
   "cell_type": "code",
   "execution_count": 104,
   "metadata": {},
   "outputs": [
    {
     "name": "stdout",
     "output_type": "stream",
     "text": [
      "              precision    recall  f1-score   support\n",
      "\n",
      "           0       0.74      0.51      0.61       332\n",
      "           1       0.87      0.95      0.91      1161\n",
      "\n",
      "   micro avg       0.85      0.85      0.85      1493\n",
      "   macro avg       0.81      0.73      0.76      1493\n",
      "weighted avg       0.84      0.85      0.84      1493\n",
      "\n"
     ]
    }
   ],
   "source": [
    "from sklearn.metrics import classification_report\n",
    "print(classification_report(y_test, y_pred))"
   ]
  },
  {
   "cell_type": "code",
   "execution_count": 105,
   "metadata": {},
   "outputs": [
    {
     "ename": "ImportError",
     "evalue": "cannot import name 'cross_validation' from 'sklearn' (/Library/Frameworks/Python.framework/Versions/3.7/lib/python3.7/site-packages/sklearn/__init__.py)",
     "output_type": "error",
     "traceback": [
      "\u001b[0;31m---------------------------------------------------------------------------\u001b[0m",
      "\u001b[0;31mImportError\u001b[0m                               Traceback (most recent call last)",
      "\u001b[0;32m<ipython-input-105-9d6dced0be82>\u001b[0m in \u001b[0;36m<module>\u001b[0;34m()\u001b[0m\n\u001b[1;32m      1\u001b[0m \u001b[0;32mfrom\u001b[0m \u001b[0msklearn\u001b[0m \u001b[0;32mimport\u001b[0m \u001b[0msvm\u001b[0m\u001b[0;34m,\u001b[0m \u001b[0mdatasets\u001b[0m\u001b[0;34m\u001b[0m\u001b[0m\n\u001b[1;32m      2\u001b[0m \u001b[0;32mfrom\u001b[0m \u001b[0msklearn\u001b[0m\u001b[0;34m.\u001b[0m\u001b[0mmetrics\u001b[0m \u001b[0;32mimport\u001b[0m \u001b[0mroc_curve\u001b[0m\u001b[0;34m,\u001b[0m \u001b[0mauc\u001b[0m  \u001b[0;31m# 计算roc和auc\u001b[0m\u001b[0;34m\u001b[0m\u001b[0m\n\u001b[0;32m----> 3\u001b[0;31m \u001b[0;32mfrom\u001b[0m \u001b[0msklearn\u001b[0m \u001b[0;32mimport\u001b[0m \u001b[0mcross_validation\u001b[0m\u001b[0;34m\u001b[0m\u001b[0m\n\u001b[0m\u001b[1;32m      4\u001b[0m \u001b[0;34m\u001b[0m\u001b[0m\n\u001b[1;32m      5\u001b[0m \u001b[0mrandom_state\u001b[0m \u001b[0;34m=\u001b[0m \u001b[0mnp\u001b[0m\u001b[0;34m.\u001b[0m\u001b[0mrandom\u001b[0m\u001b[0;34m.\u001b[0m\u001b[0mRandomState\u001b[0m\u001b[0;34m(\u001b[0m\u001b[0;36m0\u001b[0m\u001b[0;34m)\u001b[0m\u001b[0;34m\u001b[0m\u001b[0m\n",
      "\u001b[0;31mImportError\u001b[0m: cannot import name 'cross_validation' from 'sklearn' (/Library/Frameworks/Python.framework/Versions/3.7/lib/python3.7/site-packages/sklearn/__init__.py)"
     ]
    }
   ],
   "source": [
    "from sklearn import svm, datasets  \n",
    "from sklearn.metrics import roc_curve, auc  # 计算roc和auc  \n",
    "from sklearn import cross_validation\n",
    "\n",
    "random_state = np.random.RandomState(0)  \n",
    "n_samples, n_features = x.shape  \n",
    "X = np.c_[x, random_state.randn(n_samples, 200 * n_features)]  \n",
    "X_train, X_test, y_train2, y_test2 = cross_validation.train_test_split(X, y, test_size=.2,random_state=0)  \n",
    "svm = svm.SVC(kernel='linear', probability=True,random_state=random_state) \n",
    "y_score = svm.fit(X_train, y_train2).decision_function(X_test)  \n",
    "fpr,tpr,threshold = roc_curve(y_test, y_score) # 计算真正率和假正率  \n",
    "roc_auc = auc(fpr,tpr) # 计算auc的值  \n",
    "\n",
    "plt.figure()  \n",
    "lw = 2  \n",
    "plt.figure(figsize=(6,6))  \n",
    "plt.plot(fpr, tpr, color='darkorange',  \n",
    "         lw=lw, label='ROC curve (area = %0.2f)' % roc_auc) ###假正率为横坐标，真正率为纵坐标做曲线  \n",
    "plt.plot([0, 1], [0, 1], color='navy', lw=lw, linestyle='--')  \n",
    "plt.xlim([0.0, 1.0])  \n",
    "plt.ylim([0.0, 1.05])  \n",
    "plt.xlabel('False Positive Rate')  \n",
    "plt.ylabel('True Positive Rate')  \n",
    "plt.title('Receiver operating characteristic example')  \n",
    "plt.legend(loc=\"lower right\")  \n",
    "plt.show()  "
   ]
  },
  {
   "cell_type": "code",
   "execution_count": null,
   "metadata": {},
   "outputs": [],
   "source": []
  },
  {
   "cell_type": "code",
   "execution_count": null,
   "metadata": {},
   "outputs": [],
   "source": []
  },
  {
   "cell_type": "code",
   "execution_count": null,
   "metadata": {},
   "outputs": [],
   "source": []
  },
  {
   "cell_type": "code",
   "execution_count": null,
   "metadata": {},
   "outputs": [],
   "source": []
  },
  {
   "cell_type": "code",
   "execution_count": null,
   "metadata": {},
   "outputs": [],
   "source": []
  },
  {
   "cell_type": "code",
   "execution_count": null,
   "metadata": {},
   "outputs": [],
   "source": []
  },
  {
   "cell_type": "code",
   "execution_count": null,
   "metadata": {},
   "outputs": [],
   "source": []
  },
  {
   "cell_type": "code",
   "execution_count": null,
   "metadata": {},
   "outputs": [],
   "source": []
  },
  {
   "cell_type": "code",
   "execution_count": null,
   "metadata": {},
   "outputs": [],
   "source": []
  },
  {
   "cell_type": "code",
   "execution_count": null,
   "metadata": {},
   "outputs": [],
   "source": []
  },
  {
   "cell_type": "code",
   "execution_count": null,
   "metadata": {},
   "outputs": [],
   "source": []
  },
  {
   "cell_type": "code",
   "execution_count": null,
   "metadata": {},
   "outputs": [],
   "source": []
  },
  {
   "cell_type": "code",
   "execution_count": 59,
   "metadata": {},
   "outputs": [
    {
     "data": {
      "text/plain": [
       "0.631578947368421"
      ]
     },
     "execution_count": 59,
     "metadata": {},
     "output_type": "execute_result"
    }
   ],
   "source": [
    "from sklearn import neighbors, datasets, preprocessing\n",
    "from sklearn.model_selection import train_test_split\n",
    "from sklearn.metrics import accuracy_score\n",
    "iris = datasets.load_iris()      #通过数据集导入iris数据\n",
    "X, y = iris.data[:, :2], iris.target      #将iris数据的自变量和结果标签分别赋予向量X和y\n",
    "X_train, X_test, y_train, y_test = train_test_split(X, y, random_state=33)      #切分数据集分别为训练集和测试集\n",
    "scaler = preprocessing.StandardScaler().fit(X_train)    #数据预处理，即数据标准化\n",
    "X_train = scaler.transform(X_train)\n",
    "X_test = scaler.transform(X_test)\n",
    "knn = neighbors.KNeighborsClassifier(n_neighbors=5)    #导入k近邻算法\n",
    "knn.fit(X_train, y_train)      #模拟数据模型\n",
    "y_pred = knn.predict(X_test)    #预测结果\n",
    "accuracy_score(y_test, y_pred)    #测试预测结果的准确率"
   ]
  }
 ],
 "metadata": {
  "kernelspec": {
   "display_name": "Python 3",
   "language": "python",
   "name": "python3"
  },
  "language_info": {
   "codemirror_mode": {
    "name": "ipython",
    "version": 3
   },
   "file_extension": ".py",
   "mimetype": "text/x-python",
   "name": "python",
   "nbconvert_exporter": "python",
   "pygments_lexer": "ipython3",
   "version": "3.7.3"
  }
 },
 "nbformat": 4,
 "nbformat_minor": 2
}
